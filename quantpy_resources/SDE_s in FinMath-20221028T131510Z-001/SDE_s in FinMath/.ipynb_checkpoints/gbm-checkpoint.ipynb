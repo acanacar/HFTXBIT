{
 "cells": [
  {
   "cell_type": "markdown",
   "metadata": {},
   "source": [
    "# Simulating Geometric Brownian Motion (GBM) in Python\n",
    "\n",
    "In this tutorial we will be simulating Geometric Brownian Motion in Python.\n",
    "\n",
    "Geometric Brownian motion (GBM) S is defined by S0 > 0 and the dynamics as defined in the following Stochastic Differential Equation (SDE):\n",
    "\n",
    "\n",
    "$\\Large dS_t = \\mu S_t dt + \\sigma S_t dW_t$\n",
    "\n",
    "Integrated Form:\n",
    "\n",
    " - $\\log S_t = \\log S_0 + \\int_{0}^{t} (\\mu-\\frac{\\sigma^2}{2}) \\,ds + \\int_{0}^{t} \\sigma \\,dW_s $\n",
    "\n",
    " - $\\log S_t = \\log S_0 + (\\mu-\\frac{\\sigma^2}{2})t + \\sigma W_t $\n",
    "\n",
    " - $\\log S_t \\sim N(\\log S_0 + (\\mu-\\frac{\\sigma^2}{2})t, \\sigma^2 t)$\n",
    " \n",
    "Explicit Expression:\n",
    "\n",
    "$\\Large S_t = S_0 {\\rm e}^{(\\mu-\\frac{\\sigma^2}{2})t + \\sigma W_t}$"
   ]
  },
  {
   "cell_type": "code",
   "execution_count": 50,
   "metadata": {},
   "outputs": [],
   "source": [
    "import numpy as np\n",
    "import matplotlib.pyplot as plt"
   ]
  },
  {
   "cell_type": "markdown",
   "metadata": {},
   "source": [
    "### Parameters"
   ]
  },
  {
   "cell_type": "code",
   "execution_count": 51,
   "metadata": {},
   "outputs": [],
   "source": [
    "# drift coefficent\n",
    "mu = 0.1\n",
    "# number of steps\n",
    "n = 100\n",
    "# time in years\n",
    "T = 1\n",
    "# number of sims\n",
    "M = 100\n",
    "# initial stock price\n",
    "S0 = 100\n",
    "# volatility\n",
    "sigma = 0.3"
   ]
  },
  {
   "cell_type": "markdown",
   "metadata": {},
   "source": [
    "### Simulating GBM Paths"
   ]
  },
  {
   "cell_type": "code",
   "execution_count": 43,
   "metadata": {},
   "outputs": [],
   "source": [
    "# calc each time step\n",
    "dt = T/n\n",
    "\n",
    "# simulation using numpy arrays\n",
    "\n",
    "\n",
    "# include array of 1's\n",
    "\n",
    "\n",
    "# multiply through by S0 and return the cumulative product of elements along a given simulation path (axis=0). \n"
   ]
  },
  {
   "cell_type": "markdown",
   "metadata": {},
   "source": [
    "### Consider time intervals in years"
   ]
  },
  {
   "cell_type": "code",
   "execution_count": 44,
   "metadata": {},
   "outputs": [],
   "source": [
    "# Define time interval correctly \n",
    "\n",
    "\n",
    "# Require numpy array that is the same shape as St\n"
   ]
  },
  {
   "cell_type": "markdown",
   "metadata": {},
   "source": [
    "### Plotting Results"
   ]
  },
  {
   "cell_type": "code",
   "execution_count": 49,
   "metadata": {},
   "outputs": [],
   "source": [
    "plt.plot(tt, St)\n",
    "plt.xlabel(\"Years $(t)$\")\n",
    "plt.ylabel(\"Stock Price $(S_t)$\")\n",
    "plt.title(\n",
    "    \"Realizations of Geometric Brownian Motion\\n $dS_t = \\mu S_t dt + \\sigma S_t dW_t$\\n $S_0 = {0}, \\mu = {1}, \\sigma = {2}$\".format(S0, mu, sigma)\n",
    ")\n",
    "plt.show()"
   ]
  }
 ],
 "metadata": {
  "kernelspec": {
   "display_name": "Python 3",
   "language": "python",
   "name": "python3"
  },
  "language_info": {
   "codemirror_mode": {
    "name": "ipython",
    "version": 3
   },
   "file_extension": ".py",
   "mimetype": "text/x-python",
   "name": "python",
   "nbconvert_exporter": "python",
   "pygments_lexer": "ipython3",
   "version": "3.7.7"
  }
 },
 "nbformat": 4,
 "nbformat_minor": 4
}
